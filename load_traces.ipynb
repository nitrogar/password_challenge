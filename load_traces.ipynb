{
 "cells": [
  {
   "cell_type": "code",
   "execution_count": 4,
   "metadata": {},
   "outputs": [],
   "source": [
    "import pickle\n",
    "import random\n",
    "import time\n",
    "\n",
    "traces_to_load = pickle.load(open(\"traces.p\", \"rb\"))\n",
    "\n",
    "def measure_power_for(search_for):\n",
    "    if search_for.endswith(\"\\n\") is False:\n",
    "        raise ValueError(\"error: password does not end with newline \\\\n\")\n",
    "        \n",
    "    search_for = search_for.strip(\"\\n\")\n",
    "    \n",
    "    state = \"h0px3\"\n",
    "        \n",
    "    dataset = \"abcdefghijklmnopqrstuvwxyz0123456789 \\x00\"\n",
    "    \n",
    "    if len(search_for) > 5:\n",
    "        raise ValueError(\"error: The password is just 5 characters \")\n",
    "        \n",
    "    for a in search_for:\n",
    "        if a not in dataset:\n",
    "            raise ValueError(\"error: entered value outside the dataset \")\n",
    "            \n",
    "    #Only recorded is correct passwords\n",
    "    recorded_pw = \"\"\n",
    "    for i in range(0, len(search_for)):\n",
    "        if state[i] != search_for[i]:\n",
    "            recorded_pw += \" \"\n",
    "        else:\n",
    "            recorded_pw += search_for[i]\n",
    "            \n",
    "    time.sleep(0.05)\n",
    "            \n",
    "    return traces_to_load[recorded_pw][random.randint(0, 99)]"
   ]
  }
 ],
 "metadata": {
  "kernelspec": {
   "display_name": "Python 3.9.2 64-bit",
   "language": "python",
   "name": "python3"
  },
  "language_info": {
   "codemirror_mode": {
    "name": "ipython",
    "version": 3
   },
   "file_extension": ".py",
   "mimetype": "text/x-python",
   "name": "python",
   "nbconvert_exporter": "python",
   "pygments_lexer": "ipython3",
   "version": "3.9.2"
  },
  "vscode": {
   "interpreter": {
    "hash": "916dbcbb3f70747c44a77c7bcd40155683ae19c65e1c03b4aa3499c5328201f1"
   }
  }
 },
 "nbformat": 4,
 "nbformat_minor": 2
}
