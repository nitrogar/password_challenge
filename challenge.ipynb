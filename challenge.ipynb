{
 "cells": [
  {
   "cell_type": "markdown",
   "metadata": {},
   "source": [
    "\n",
    "The idea of this challenge is to figure out the secret key of a hypothetical embbeded platform based on how the platform checks the validity of the user password. assume the machine uses the following pseudocode to authenticate :\n",
    "\n",
    "```c\n",
    "int check_password(char * user_data){\n",
    "    for(i=0;i< length(secret); i++){\n",
    "        if(user_data[i] != secret[i])\n",
    "            return false\n",
    "\n",
    "    }\n",
    "    return true\n",
    "}\n",
    "```\n",
    "\n",
    "\n"
   ]
  },
  {
   "cell_type": "markdown",
   "metadata": {},
   "source": [
    "you will need a linux machine with python3 and pip.\n",
    "\n",
    "run the following command to install the needed libraries"
   ]
  },
  {
   "cell_type": "code",
   "execution_count": 29,
   "metadata": {},
   "outputs": [
    {
     "name": "stdout",
     "output_type": "stream",
     "text": [
      "Requirement already satisfied: numpy in /usr/lib/python3/dist-packages (1.19.5)\n",
      "Requirement already satisfied: pandas in /home/user/.local/lib/python3.9/site-packages (1.4.3)\n",
      "Requirement already satisfied: matplotlib in /home/user/.local/lib/python3.9/site-packages (3.5.2)\n",
      "Requirement already satisfied: plotly in /home/user/.local/lib/python3.9/site-packages (5.9.0)\n",
      "Requirement already satisfied: fonttools>=4.22.0 in /home/user/.local/lib/python3.9/site-packages (from matplotlib) (4.34.4)\n",
      "Requirement already satisfied: python-dateutil>=2.7 in /home/user/.local/lib/python3.9/site-packages (from matplotlib) (2.8.2)\n",
      "Requirement already satisfied: cycler>=0.10 in /home/user/.local/lib/python3.9/site-packages (from matplotlib) (0.11.0)\n",
      "Requirement already satisfied: pillow>=6.2.0 in /usr/lib/python3/dist-packages (from matplotlib) (8.1.2)\n",
      "Requirement already satisfied: pyparsing>=2.2.1 in /home/user/.local/lib/python3.9/site-packages (from matplotlib) (3.0.9)\n",
      "Requirement already satisfied: kiwisolver>=1.0.1 in /home/user/.local/lib/python3.9/site-packages (from matplotlib) (1.4.4)\n",
      "Requirement already satisfied: packaging>=20.0 in /home/user/.local/lib/python3.9/site-packages (from matplotlib) (21.3)\n",
      "Requirement already satisfied: six>=1.5 in /usr/lib/python3/dist-packages (from python-dateutil>=2.7->matplotlib) (1.16.0)\n",
      "Requirement already satisfied: pytz>=2020.1 in /usr/lib/python3/dist-packages (from pandas) (2021.1)\n",
      "Requirement already satisfied: tenacity>=6.2.0 in /home/user/.local/lib/python3.9/site-packages (from plotly) (8.0.1)\n"
     ]
    }
   ],
   "source": [
    "%%bash\n",
    "# you need the following libraries \n",
    "pip install  numpy  pandas matplotlib plotly"
   ]
  },
  {
   "cell_type": "markdown",
   "metadata": {},
   "source": [
    "run the following to check that the challenge is woriking"
   ]
  },
  {
   "cell_type": "code",
   "execution_count": 30,
   "metadata": {},
   "outputs": [
    {
     "name": "stdout",
     "output_type": "stream",
     "text": [
      "✔️ OK to continue!\n"
     ]
    }
   ],
   "source": [
    "%run \"load_traces.ipynb\"\n",
    "\n",
    "trace_test = measure_power_for(\"h\\n\")\n",
    "\n",
    "#Basic sanity check\n",
    "assert(len(trace_test) == 3000)\n",
    "print(\"✔️ OK to continue!\")"
   ]
  },
  {
   "cell_type": "markdown",
   "metadata": {},
   "source": [
    "Because you do not have the needed hardware this challenge uses simulated data from an actual device .\n",
    "you can use the measure_power_for(guess) to get the power consumtion for a given secret guess.\n",
    "\n",
    "NOTE:\n",
    "    the secret is only 5 character all lower letters and digits\n",
    "    the return value is a numpy array so if you don't have any experiance in it  I recommend reading about numpy matplotlib and pandas."
   ]
  },
  {
   "cell_type": "markdown",
   "metadata": {},
   "source": [
    "Now using what you learned about side channel attacks, write a python script agains the platform to extruct the secret key"
   ]
  },
  {
   "cell_type": "code",
   "execution_count": 27,
   "metadata": {},
   "outputs": [],
   "source": [
    "# write your solution here \n"
   ]
  },
  {
   "cell_type": "markdown",
   "metadata": {},
   "source": [
    " "
   ]
  }
 ],
 "metadata": {
  "kernelspec": {
   "display_name": "Python 3.9.2 64-bit",
   "language": "python",
   "name": "python3"
  },
  "language_info": {
   "codemirror_mode": {
    "name": "ipython",
    "version": 3
   },
   "file_extension": ".py",
   "mimetype": "text/x-python",
   "name": "python",
   "nbconvert_exporter": "python",
   "pygments_lexer": "ipython3",
   "version": "3.9.2"
  },
  "orig_nbformat": 4,
  "vscode": {
   "interpreter": {
    "hash": "916dbcbb3f70747c44a77c7bcd40155683ae19c65e1c03b4aa3499c5328201f1"
   }
  }
 },
 "nbformat": 4,
 "nbformat_minor": 2
}
